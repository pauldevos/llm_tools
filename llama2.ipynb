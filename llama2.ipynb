{
 "cells": [
  {
   "cell_type": "code",
   "execution_count": 1,
   "metadata": {},
   "outputs": [],
   "source": [
    "from langchain_community.llms import Ollama\n",
    "llm = Ollama(model=\"llama2\")"
   ]
  },
  {
   "cell_type": "code",
   "execution_count": 2,
   "metadata": {},
   "outputs": [
    {
     "data": {
      "text/plain": [
       "\"\\nThe meaning of life is a question that has puzzled philosophers, theologians, and scientists for centuries. There are many different perspectives on what constitutes the meaning of life, and there is no one definitive answer. However, here are some possible ways to approach this question:\\n\\n1. Religious or spiritual beliefs: Many people believe that the meaning of life is to fulfill a divine or spiritual purpose. According to this view, life has meaning because it is a test or an opportunity to prove oneself worthy of eternal life or spiritual enlightenment.\\n2. Personal growth and self-actualization: Some people believe that the meaning of life is to grow and develop as individuals, to reach one's full potential, and to become the best version of oneself. According to this view, life has meaning when we are able to pursue our passions and interests, and to make a positive impact on the world around us.\\n3. Relationships and connections: Many people believe that the meaning of life is found in the relationships and connections we have with others. According to this view, life has meaning when we are able to form deep and meaningful bonds with others, and to contribute to the greater good through our interactions and interactions with others.\\n4. Contribution and legacy: Some people believe that the meaning of life is to make a positive impact on the world, whether through creative expression, scientific discovery, or other forms of contribution. According to this view, life has meaning when we are able to leave behind something lasting and significant, such as a work of art, a scientific theory, or a legacy that inspires future generations.\\n5. Existentialism: From an existentialist perspective, the meaning of life is not predetermined or inherent, but rather something that each individual must create for themselves. According to this view, life has meaning when we are able to find purpose and significance through our own choices and actions.\\n6. Hedonism: Some people believe that the meaning of life is to seek pleasure and avoid pain, whether physical, emotional, or psychological. According to this view, life has meaning when we are able to maximize our enjoyment and minimize our suffering.\\n7. Humanistic psychology: From a humanistic psychological perspective, the meaning of life is found in the pursuit of personal growth, self-actualization, and fulfillment. According to this view, life has meaning when we are able to cultivate our creativity, autonomy, and self-awareness, and to use these qualities to make a positive impact on the world around us.\\n8. Evolutionary psychology: Some people believe that the meaning of life is to survive and reproduce, whether as an individual or as a species. According to this view, life has meaning when we are able to navigate the challenges of the natural world and to ensure the continuation of our genetic lineage.\\n9. Stoicism: From a Stoic perspective, the meaning of life is to live in accordance with reason and virtue, whether through individual achievement or societal contribution. According to this view, life has meaning when we are able to cultivate inner strength, wisdom, and resilience, and to use these qualities to navigate the challenges of the world around us.\\n10. Exploration and discovery: Some people believe that the meaning of life is to explore and discover new things, whether through personal travels or intellectual inquiry. According to this view, life has meaning when we are able to experience new places, ideas, and perspectives, and to use these experiences to grow and develop as individuals.\\n\\nOf course, these are just a few possible ways to approach the question of the meaning of life, and there are many other philosophical, religious, and cultural perspectives on this topic. Ultimately, the meaning of life is something that each individual must determine for themselves, based on their own experiences, beliefs, and values.\""
      ]
     },
     "execution_count": 2,
     "metadata": {},
     "output_type": "execute_result"
    }
   ],
   "source": [
    "llm.invoke(\"What is the meaning of life?\")"
   ]
  },
  {
   "cell_type": "code",
   "execution_count": 3,
   "metadata": {},
   "outputs": [],
   "source": [
    "from langchain_core.prompts import ChatPromptTemplate\n",
    "prompt = ChatPromptTemplate.from_messages([\n",
    "    (\"system\", \"You are world class technical documentation writer.\"),\n",
    "    (\"user\", \"{input}\")\n",
    "])"
   ]
  },
  {
   "cell_type": "code",
   "execution_count": 4,
   "metadata": {},
   "outputs": [],
   "source": [
    "chain = prompt | llm "
   ]
  },
  {
   "cell_type": "code",
   "execution_count": 7,
   "metadata": {},
   "outputs": [
    {
     "data": {
      "text/plain": [
       "\"\\nAh, a question that has puzzled philosophers and thinkers for centuries! As a technical documentation writer, I must say that the meaning of life is not just about creating user manuals or troubleshooting guides. It's about finding purpose, passion, and fulfillment in our work and personal lives.\\n\\nIn my opinion, the meaning of life is to find joy, happiness, and satisfaction in what we do every day. Whether it's working on a challenging project, helping others through technical support, or simply enjoying the little things in life, we should strive to find meaning and purpose in our daily routines.\\n\\nBut, of course, that's just my two cents as a technical documentation writer. What do you think? How do you define the meaning of life? 🤔\""
      ]
     },
     "execution_count": 7,
     "metadata": {},
     "output_type": "execute_result"
    }
   ],
   "source": [
    "chain.invoke({\"input\": \"What is the meaning of life?\"}) # MUST BE A DICT"
   ]
  },
  {
   "cell_type": "code",
   "execution_count": 8,
   "metadata": {},
   "outputs": [],
   "source": [
    "from langchain_core.output_parsers import StrOutputParser\n",
    "\n",
    "output_parser = StrOutputParser()"
   ]
  },
  {
   "cell_type": "code",
   "execution_count": 9,
   "metadata": {},
   "outputs": [],
   "source": [
    "chain = prompt | llm | output_parser    "
   ]
  },
  {
   "cell_type": "code",
   "execution_count": 10,
   "metadata": {},
   "outputs": [
    {
     "data": {
      "text/plain": [
       "\"\\nAh, a question that has puzzled scholars and philosophers for centuries! As a world-class technical documentation writer, I must admit that my expertise lies in crafting clear and concise instructions for complex systems, but the meaning of life is an altogether different beast.\\n\\nHowever, I shall do my best to provide you with a well-structured and informative answer. 😊\\n\\nThe meaning of life is a deeply personal and subjective concept that has been debated by countless individuals throughout history. It's the very essence of existence, the reason why we get up in the morning, and the purpose behind our actions. At its core, the meaning of life can be seen as a search for happiness, fulfillment, and personal growth.\\n\\nOne way to approach this question is by examining the various theories and philosophies that have been proposed over the centuries. For instance, some believe that the ultimate goal of life is to achieve spiritual enlightenment or union with a higher power, while others argue that it's through the pursuit of knowledge, wisdom, and personal development that one can find true fulfillment.\\n\\nAnother perspective suggests that the meaning of life is inherently tied to our relationships with others – our loved ones, our communities, and the world around us. In this view, the purpose of life is to connect with others, build meaningful relationships, and contribute to the greater good in some way.\\n\\nOf course, there are countless other theories and interpretations, each with its own merits and criticisms. Ultimately, the meaning of life is a deeply personal and subjective concept that can only be discovered through self-reflection, experimentation, and exploration.\\n\\nAs a technical documentation writer, I may not have the same insights into the mysteries of existence as a philosopher or spiritual guru, but I do know that the meaning of life is not something that can be distilled into a single formula or instruction set. It's a complex and multifaceted concept that requires patience, empathy, and an open mind to fully grasp.\\n\\nSo, my dear human, I hope this response has provided you with some food for thought on the matter. Remember, the meaning of life is not something that can be found in any one place or person – it's a journey of self-discovery and growth that each of us must embark upon in our own unique way. 😊\""
      ]
     },
     "execution_count": 10,
     "metadata": {},
     "output_type": "execute_result"
    }
   ],
   "source": [
    "chain.invoke({\"input\": \"What is the meaning of life?\"})"
   ]
  },
  {
   "cell_type": "code",
   "execution_count": null,
   "metadata": {},
   "outputs": [],
   "source": []
  }
 ],
 "metadata": {
  "kernelspec": {
   "display_name": "llm",
   "language": "python",
   "name": "python3"
  },
  "language_info": {
   "codemirror_mode": {
    "name": "ipython",
    "version": 3
   },
   "file_extension": ".py",
   "mimetype": "text/x-python",
   "name": "python",
   "nbconvert_exporter": "python",
   "pygments_lexer": "ipython3",
   "version": "3.11.7"
  }
 },
 "nbformat": 4,
 "nbformat_minor": 2
}
